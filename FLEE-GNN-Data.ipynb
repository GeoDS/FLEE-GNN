{
 "cells": [
  {
   "cell_type": "markdown",
   "metadata": {},
   "source": [
    "# FLEE-GNN - Cross-silo data processing"
   ]
  },
  {
   "cell_type": "markdown",
   "metadata": {},
   "source": [
    "## load libraries"
   ]
  },
  {
   "cell_type": "code",
   "execution_count": 1,
   "metadata": {},
   "outputs": [],
   "source": [
    "import pandas as pd\n",
    "import numpy as np"
   ]
  },
  {
   "cell_type": "markdown",
   "metadata": {},
   "source": [
    "## define states for each silo regions"
   ]
  },
  {
   "cell_type": "code",
   "execution_count": 2,
   "metadata": {},
   "outputs": [],
   "source": [
    "region_WEST = ['AK', 'HI', 'WA', 'OR', 'CA', 'NV', 'AZ', 'NM', 'UT', 'CO', 'MT', 'ID', 'WY']\n",
    "region_MIDWEST = ['ND', 'SD', 'NE', 'KS', 'MO', 'IA', 'MN', 'WI', 'IL', 'IN', 'MI', 'OH']\n",
    "region_SOUTH = ['TX', 'OK', 'AR', 'LA', 'MS', 'AL', 'TN', 'KY', 'WV', 'DC', 'VA', 'MD', 'DE', 'NC', 'SC', 'GA', 'FL']\n",
    "region_NORTHEAST = ['PA', 'NY', 'NJ', 'CT', 'RI', 'MA', 'VT', 'NH', 'ME']"
   ]
  },
  {
   "cell_type": "markdown",
   "metadata": {},
   "source": [
    "## load CFS 2012 data and get masks for filtering silo data"
   ]
  },
  {
   "cell_type": "code",
   "execution_count": null,
   "metadata": {},
   "outputs": [],
   "source": [
    "cfs_2012 = pd.read_csv('data/2012_data.csv')"
   ]
  },
  {
   "cell_type": "code",
   "execution_count": null,
   "metadata": {},
   "outputs": [],
   "source": [
    "# option 1 - for silo data, we only include flows whose both origins and destinations are located inside of the silo\n",
    "region_WEST_mask = cfs_2012['Origin'].isin(region_WEST) & cfs_2012['Destination'].isin(region_WEST)\n",
    "region_MIDWEST_mask = cfs_2012['Origin'].isin(region_MIDWEST) & cfs_2012['Destination'].isin(region_MIDWEST)\n",
    "region_SOUTH_mask = cfs_2012['Origin'].isin(region_SOUTH) & cfs_2012['Destination'].isin(region_SOUTH)\n",
    "region_NORTHEAST_mask = cfs_2012['Origin'].isin(region_NORTHEAST) & cfs_2012['Destination'].isin(region_NORTHEAST)"
   ]
  },
  {
   "cell_type": "code",
   "execution_count": 3,
   "metadata": {},
   "outputs": [],
   "source": [
    "# option 2 - for silo data, we include flows whose either origins or destinations are located inside of the silo\n",
    "# region_WEST_mask = cfs_2012['Origin'].isin(region_WEST) | cfs_2012['Destination'].isin(region_WEST)\n",
    "# region_MIDWEST_mask = cfs_2012['Origin'].isin(region_MIDWEST) | cfs_2012['Destination'].isin(region_MIDWEST)\n",
    "# region_SOUTH_mask = cfs_2012['Origin'].isin(region_SOUTH) | cfs_2012['Destination'].isin(region_SOUTH)\n",
    "# region_NORTHEAST_mask = cfs_2012['Origin'].isin(region_NORTHEAST) | cfs_2012['Destination'].isin(region_NORTHEAST)"
   ]
  },
  {
   "cell_type": "code",
   "execution_count": null,
   "metadata": {},
   "outputs": [],
   "source": [
    "sum(region_WEST_mask), sum(region_MIDWEST_mask), sum(region_SOUTH_mask), sum(region_NORTHEAST_mask)"
   ]
  },
  {
   "cell_type": "markdown",
   "metadata": {},
   "source": [
    "## generate silo data from whole data"
   ]
  },
  {
   "cell_type": "code",
   "execution_count": null,
   "metadata": {},
   "outputs": [],
   "source": [
    "cfs_2012[region_WEST_mask].reset_index().drop(columns = ['index']).to_csv('data/2012_data_region_WEST.csv', index=False)\n",
    "cfs_2012[region_MIDWEST_mask].reset_index().drop(columns = ['index']).to_csv('data/2012_data_region_MIDWEST.csv', index=False)\n",
    "cfs_2012[region_SOUTH_mask].reset_index().drop(columns = ['index']).to_csv('data/2012_data_region_SOUTH.csv', index=False)\n",
    "cfs_2012[region_NORTHEAST_mask].reset_index().drop(columns = ['index']).to_csv('data/2012_data_region_NORTHEAST.csv', index=False)"
   ]
  },
  {
   "cell_type": "markdown",
   "metadata": {},
   "source": [
    "## generate graph data from real data with noise level of 0.2"
   ]
  },
  {
   "cell_type": "code",
   "execution_count": null,
   "metadata": {},
   "outputs": [],
   "source": [
    "! python ./scripts/generate_data_from_real_data.py --data-path ./data/2012_data_region_WEST.csv --save-dir ./training/noise_data_region_WEST_v2_0.2/ --size 100 --noise-rate 0.2\n",
    "! python ./scripts/generate_data_from_real_data.py --data-path ./data/2012_data_region_MIDWEST.csv --save-dir ./training/noise_data_region_MIDWEST_v2_0.2/ --size 100 --noise-rate 0.2\n",
    "! python ./scripts/generate_data_from_real_data.py --data-path ./data/2012_data_region_SOUTH.csv --save-dir ./training/noise_data_region_SOUTH_v2_0.2/ --size 100 --noise-rate 0.2\n",
    "! python ./scripts/generate_data_from_real_data.py --data-path ./data/2012_data_region_NORTHEAST.csv --save-dir ./training/noise_data_region_NORTHEAST_v2_0.2/ --size 100 --noise-rate 0.2"
   ]
  },
  {
   "cell_type": "markdown",
   "metadata": {},
   "source": [
    "## generate label for generated graph data"
   ]
  },
  {
   "cell_type": "code",
   "execution_count": null,
   "metadata": {},
   "outputs": [],
   "source": [
    "! python ./scripts/generate_label.py --info-dir ./data/info --data-dir ./training/noise_data_region_WEST_v2_0.2/ --label-dir ./training/noise_data_region_WEST_v2_0.2/ --size 100\n",
    "! python ./scripts/generate_label.py --info-dir ./data/info --data-dir ./training/noise_data_region_MIDWEST_v2_0.2/ --label-dir ./training/noise_data_region_MIDWEST_v2_0.2/ --size 100\n",
    "! python ./scripts/generate_label.py --info-dir ./data/info --data-dir ./training/noise_data_region_SOUTH_v2_0.2/ --label-dir ./training/noise_data_region_SOUTH_v2_0.2/ --size 100\n",
    "! python ./scripts/generate_label.py --info-dir ./data/info --data-dir ./training/noise_data_region_NORTHEAST_v2_0.2/ --label-dir ./training/noise_data_region_NORTHEAST_v2_0.2/ --size 100"
   ]
  }
 ],
 "metadata": {
  "kernelspec": {
   "display_name": "Python [conda env:neo4j]",
   "language": "python",
   "name": "conda-env-neo4j-py"
  },
  "language_info": {
   "codemirror_mode": {
    "name": "ipython",
    "version": 3
   },
   "file_extension": ".py",
   "mimetype": "text/x-python",
   "name": "python",
   "nbconvert_exporter": "python",
   "pygments_lexer": "ipython3",
   "version": "3.8.13"
  }
 },
 "nbformat": 4,
 "nbformat_minor": 4
}
